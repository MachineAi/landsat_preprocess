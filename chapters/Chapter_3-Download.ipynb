{
 "metadata": {
  "name": "",
  "signature": "sha256:2c60cc332d52a7593ec98118119000e41a544aa929c7d2bf432042ffc81aaf0c"
 },
 "nbformat": 3,
 "nbformat_minor": 0,
 "worksheets": [
  {
   "cells": [
    {
     "cell_type": "markdown",
     "metadata": {},
     "source": [
      "# Step 3. Download completed order onto GEO cluster\n",
      "\n",
      "When you receive an email update notifying you that your images have been processed, you may access them here:\n",
      "\n",
      "http://espa.cr.usgs.gov/status/\n",
      "\n",
      "Simply input the email address associated with your order, select your order, and you'll find a page with each image and it's status:\n",
      "\n",
      "<img src=\"https://raw.githubusercontent.com/ceholden/landsat_preprocess/master/resources/ESPA_orderstatus.png\" />\n",
      "\n",
      "The ESPA interface provides you with a URL for downloading the image archive and a checksum useful for assuring your download completed without error (see http://en.wikipedia.org/wiki/Checksum). \n",
      "\n",
      "### Download onto the cluster\n",
      "\n",
      "The quickest and easiest way of downloading these datasets onto the cluster would be using Firefox's \"DownThemAll\" addon because it easily allows for parallel downloads (https://addons.mozilla.org/en-US/firefox/addon/downthemall/).\n",
      "\n",
      "One simple way of downloading the datasets would be using \"wget\" (enter \"man wget\" for more information). \n",
      "\n",
      "In this example, we use \"wget\" with several options:\n",
      "+ \"-nc\" specifies \"no clobber\", or no overwrite\n",
      "+ \"-r\" specifies recursion, so we can find our files beneath the download URL\n",
      "+ \"-A tar.gz,cksum\" is an accept list that specifies a pattern for files we will download. Files not matching the pattern are ignored\n",
      "+ \"-nd\" will prevent downloading directories\n",
      "+ \"-nv\" will turn off verbose\n",
      "\n",
      "A typical download command would look like this:\n",
      "\n",
      "> wget -nc -r -A tar.gz,cksum -nd -nv http://espa.cr.usgs.gov/status/ceholden%40bu.edu-572014-17955/\n",
      "\n",
      "For the purposes of this tutorial, we will be downloading an example dataset of 4 images from the Boston University Department of Earth & Environment FTP website:\n",
      "\n",
      "### Download Example Dataset\n",
      "\n",
      "First, change directory to a location where you have approximately **50GB** of space available and where you wish to preprocess this example dataset. Next,"
     ]
    },
    {
     "cell_type": "code",
     "collapsed": false,
     "input": [
      "%%bash\n",
      "\n",
      "# Download the example dataset from Chris' public FTP space on E&E FTP site\n",
      "wget -r -A tar.gz,cksum -nv -nd ftp://ftp-earth.bu.edu/ceholden/LandsatPrep/dataset\n",
      "\n",
      "echo \"Done!\""
     ],
     "language": "python",
     "metadata": {},
     "outputs": [
      {
       "output_type": "stream",
       "stream": "stdout",
       "text": [
        "Done!\n"
       ]
      }
     ],
     "prompt_number": 4
    },
    {
     "cell_type": "markdown",
     "metadata": {},
     "source": [
      "### Validate checksums of downloads\n",
      "\n",
      "It is important, but not always necessary, to assert that the files stored on the USGS's servers are fully intact once downloaded to our cluster. We can assert that the files are in tact with high confidence by checking to make sure the \"checksum\" of the file matches once downloaded to BU.\n",
      "\n",
      "For each archive you download, there will be a corresponding \"*.cksum\" file. The checksum provided is output from the Unix \"cksum\" command (http://en.wikipedia.org/wiki/Cksum). Unfortuantely, there isn't a built-in mechanism in this program to validate checksums, so we'll do this in a Bash loop and if statement."
     ]
    },
    {
     "cell_type": "code",
     "collapsed": false,
     "input": [
      "%%bash\n",
      "\n",
      "# Loop over cksum files\n",
      "for checksum in $(find ./ -name 'L*.cksum'); do\n",
      "    # Find basename of file and remove extension to match up with archive\n",
      "    bn=$(basename $checksum | awk -F '.' '{ print $1 }')\n",
      "    \n",
      "    # Test to see if archive exists\n",
      "    archive=${bn}.tar.gz\n",
      "    if [ ! -f $archive ]; then\n",
      "        echo \"$bn has no matching archive\"\n",
      "        continue\n",
      "    fi\n",
      "    \n",
      "    # If archive exists, then validate checksum\n",
      "    test=$(cksum $archive)\n",
      "    if [ \"$test\" != \"$(cat $checksum)\" ]; then\n",
      "        echo \"!!!!! WARNING !!!!!\"\n",
      "        echo \"$bn may be corrupted\"\n",
      "        echo \"!!!!! WARNING !!!!!\"\n",
      "    else\n",
      "        echo \"$bn is OK\"\n",
      "    fi\n",
      "done"
     ],
     "language": "python",
     "metadata": {},
     "outputs": [
      {
       "output_type": "stream",
       "stream": "stdout",
       "text": [
        "LE70200472014109-SC20140507171414 is OK\n",
        "LE70200472014077-SC20140507171413 is OK\n",
        "LE70200472014061-SC20140507171414 is OK\n",
        "LE70200472014093-SC20140507171414 is OK\n"
       ]
      }
     ],
     "prompt_number": 7
    }
   ],
   "metadata": {}
  }
 ]
}