{
 "metadata": {
  "name": "",
  "signature": "sha256:1a55a73a1f330972f3e0234a183aeb5d582023305277968cd5c9842dbf7235d5"
 },
 "nbformat": 3,
 "nbformat_minor": 0,
 "worksheets": [
  {
   "cells": [
    {
     "cell_type": "markdown",
     "metadata": {},
     "source": [
      "<h1 align=\"center\">Landsat Data Preprocessing</h1> \n",
      "<h4 align=\"center\"> Chris Holden</h4> \n",
      "<h4 align=\"center\"> Friday, May 9th, 2014</h4>\n",
      "\n",
      "\n",
      "##### Overview:\n",
      "The Landsat family of satellites have been in space since 1972 and can provide a rich history of the land surface of the Earth over the last ~40 years. Recent advances in computing hardware, free access to the data, and new innovative cloud screening and atmospheric correction algorithms have enabled researchers to \"data mine\" this archive. Analyses that were previously only possible at a very coarse resolution (e.g., AVHRR and MODIS) are beginning to be possible at the 30m Landsat resolution.\n",
      "\n",
      "This workshop intends to teach good practices for acquiring, organizing, preprocessing, and documenting your dense Landsat time series before ingestion into the \"data mining\" algorithm of your choice.\n",
      "\n",
      "###### Topics:\n",
      "1. [Chapter 1 - Search for images](Chapter_1-Search.ipynb)\n",
      "2. [Chapter 2 - Submit preprocessing order](Chapter_2-Submit.ipynb)\n",
      "3. [Chapter 3 - Download onto cluster](Chapter_3-Download.ipynb)\n",
      "4. [Chapter 4 - Organize and unzip images](Chapter_4-Organize.ipynb)\n",
      "5. [Chapter 5 - Create \"Layer Stacks\"](Chapter_5-Stack.ipynb)\n",
      "6. [Chapter 6 - Run Fmask on cluster](Chapter_6-Fmask.ipynb)\n",
      "7. [Chapter 7 - Subset images by extent or ROI](Chapter_7-Subset.ipynb)\n",
      "8. [Chapter 8 - Create \"preview\" JPEG/PNG images](Chapter_8-Preview.ipynb)\n",
      "9. [Chapter 9 - Summarize and document dataset](Chapter_9-Summarize.ipynb)\n",
      "\n",
      "###### Notes on workshop\n",
      "There are many ways to acquire and preprocess Landsat datasets and I will be demonstrating but one of the many approaches. Where applicable, I will demonstrate how to perform a step using a general method, and then by using one of my tools developed to help automate the general method for a specific workflow. The goal of showing both approaches will be to give you access to my specialized scripts or programs while helping you understand what they are automating.\n",
      "\n",
      "###### Technical notes\n",
      "This workflow makes extensive use of Bash and Linux command line utilities. Here are some good sources of information about Bash:\n",
      "\n",
      "1. [The Linux Documentation Project Bash Intro](http://tldp.org/HOWTO/Bash-Prog-Intro-HOWTO.html)\n",
      "2. [The Linux Documentation Project Bash for Beginners](http://www.tldp.org/LDP/Bash-Beginners-Guide/html/)\n",
      "3. [The Linux Documentation Project Bash Guide (Advanced)](http://www.tldp.org/LDP/abs/html/)\n",
      "\n",
      "Finally, while not about Bash, I highly recommend reading [Unix for Poets](http://www.stanford.edu/class/cs124/kwc-unix-for-poets.pdf) to understand how you can use Unix/Linux command line utilities in conjunction with one another to perform complex tasks.\n",
      "\n",
      "If you come across a section of code that you do not understand, Bash's interpreted nature makes it very easy for you to figure it out for yourself. Take the example:\n",
      "\n",
      "```\n",
      "for f in $(find ./ -name 'L*MTL.txt'); do\n",
      "    echo \"MTL file found: $f\"\n",
      "done\n",
      "```\n",
      "\n",
      "This bit of code describes a simple \"for each\" loop over the results returned from the **find** command. A first step in figuring out what this code does would be to navigate to a directory of Landsat data and look at the output of the \"find\" command by typing:\n",
      "\n",
      "```\n",
      "find ./ -name 'L*MTL.txt'\n",
      "```\n",
      "\n",
      "This command will recursively search you current directory (i.e., *./*) for anything matching the pattern 'L*MTL.txt'. The **find** command outputs the results in a list with each result on a new line.\n",
      "\n",
      "The \"for each\" (see http://en.wikipedia.org/wiki/Foreach_loop for comparison versus a \"for\" loop) iterates across all results from the find command. At each iteration, it defines the variable \"f\" as one element in the result list. \n",
      "\n",
      "On Linux, you can use **echo** to print text to the console. By referencing the variable \"f\" within the loop (you reference variables using $ in Bash), we can use **echo** format and print a string.\n",
      "\n",
      "By now it should be clear what the example code does. If you get confused, take a section of code and break it down piece by piece until you know what any one command does on its own. Proceed by piping, redirecting, or referencing the output of this first command into the rest of the workflow and you should build, piece by piece, an understanding of what's going on.\n"
     ]
    }
   ],
   "metadata": {}
  }
 ]
}