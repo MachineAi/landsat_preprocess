{
 "metadata": {
  "name": "",
  "signature": "sha256:42b09243ed4fa718ee631e830c57978d1d414b0270987f91a161a9ef35d747a9"
 },
 "nbformat": 3,
 "nbformat_minor": 0,
 "worksheets": [
  {
   "cells": [
    {
     "cell_type": "markdown",
     "metadata": {},
     "source": [
      "<h1 align=\"center\">Landsat Data Preprocessing</h1> \n",
      "<h4 align=\"center\"> Chris Holden</h4> \n",
      "<h4 align=\"center\"> Friday, May 9th, 2014</h4>\n",
      "\n",
      "\n",
      "##### Overview:\n",
      "The Landsat family of satellites have been in space since 1972 and can provide a rich history of the land surface of the Earth over the last ~40 years. Recent advances in computing hardware, free access to the data, and new innovative cloud screening and atmospheric correction algorithms have enabled researchers to \"data mine\" this archive. Analyses that were previously only possible at a very coarse resolution (e.g., AVHRR and MODIS) are beginning to be possible at the 30m Landsat resolution.\n",
      "\n",
      "This workshop intends to teach good practices for acquiring, organizing, preprocessing, and documenting your dense Landsat time series before ingestion into the \"data mining\" algorithm of your choice.\n",
      "\n",
      "###### Topics:\n",
      "1. Search for and filter Landsat acquisitions using EarthExplorer\n",
      "2. Submit order for \"Landsat Climate Data Record (CDR)\" product using ESPA\n",
      "3. Download completed order onto GEO cluster\n",
      "4. Organize and extract imagery from archives\n",
      "5. Combine dataset bands into \"stacked\" images of common geographic extent\n",
      "6. Run Fmask using custom parameters on images\n",
      "7. Create spatial subset using extent or polygon ROI\n",
      "8. Create \"preview\" images to help filter through preprocessed imagery\n",
      "9. Summarize and document your dataset\n",
      "\n",
      "###### Notes on workshop\n",
      "There are many ways to acquire and preprocess Landsat datasets and I will be demonstrating but one of the many approaches. Where applicable, I will demonstrate how to perform a step using a general method, and then by using one of my tools developed to help automate the general method for a specific workflow. The goal of showing both approaches will be to give you access to my specialized scripts or programs while helping you understand what they are automating."
     ]
    }
   ],
   "metadata": {}
  }
 ]
}
