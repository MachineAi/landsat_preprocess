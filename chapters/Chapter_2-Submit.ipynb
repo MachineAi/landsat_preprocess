{
 "metadata": {
  "name": "",
  "signature": "sha256:85336252fcc3c1c54691a845fc72dac274daa998880a5279a0fbcda6a4d29283"
 },
 "nbformat": 3,
 "nbformat_minor": 0,
 "worksheets": [
  {
   "cells": [
    {
     "cell_type": "markdown",
     "metadata": {},
     "source": [
      "## Step 2: Submit order for \"Landsat Climate Data Record (CDR)\" product using ESPA\n",
      "\n",
      "The two zip files containing our search results from the previous step contain the metadata required to further filter through the Landsat acquisitions. This includes information on the sun and sensor geometries, the goodness of fit for the terrain correction, the date and time of the acquisition, and more:"
     ]
    },
    {
     "cell_type": "code",
     "collapsed": false,
     "input": [
      "%%bash\n",
      "\n",
      "# This bit of Bash will print out the header of the metadata CSV file using AWK to nicely format it\n",
      "# Do not bother learning what is going on unless you really want to\n",
      "# Instead, simply view the metadata file with your preferred text editor\n",
      "\n",
      "tm=/projectnb/landsat/users/ceholden/2014_Landsat_Preprocess/1_EarthExplorer/LSR_LANDSAT_TM_23721.txt\n",
      "\n",
      "echo -e \"Landsat Metadata Fields:\\n\"\n",
      "\n",
      "head -1 $tm | awk -F ',' '{ max=30; \\\n",
      "    for (i=1; i<=NF; i = i + 3) { \\\n",
      "        l1=(max - length($i)); l2=(max - length($(i + 1))); \\\n",
      "        print $i sprintf(\"%*s\", l1, \" \") $(i + 1) sprintf(\"%*s\", l2, \" \") $(i + 2)} \\\n",
      "    }'"
     ],
     "language": "python",
     "metadata": {},
     "outputs": [
      {
       "output_type": "stream",
       "stream": "stdout",
       "text": [
        "Landsat Metadata Fields:\n",
        "\n",
        "Result Number                 EE_DISPLAY_ID                 EE_ORDERING_ID\n",
        "DOWNLOADABLE                  ON_DEMAND                     Landsat Scene Identifier\n",
        "Spacecraft Identifier         Sensor Mode                   Station Identifier\n",
        "Day/Night                     WRS Path                      WRS Row\n",
        "WRS Type                      Date Acquired                 Start Time\n",
        "Stop Time                     Sensor Anomalies              Acquisition Quality\n",
        "Quality Band 1                Quality Band 2                Quality Band 3\n",
        "Quality Band 4                Quality Band 5                Quality Band 6\n",
        "Quality Band 7                Cloud Cover                   Cloud Cover Quad Upper Left\n",
        "Cloud Cover Quad Upper Right  Cloud Cover Quad Lower Left   Cloud Cover Quad Lower Right\n",
        "Sun Elevation                 Sun Azimuth                   Scene Center Latitude\n",
        "Scene Center Longitude        Corner Upper Left Latitude    Corner Upper Left Longitude\n",
        "Corner Upper Right Latitude   Corner Upper Right Longitude  Corner Lower Left Latitude\n",
        "Corner Lower Left Longitude   Corner Lower Right Latitude   Corner Lower Right Longitude\n",
        "Browse  Exists                Data Category                 Map Projection LORa\n",
        "Data Type L0Rp                Data Type Level 1             Elevation Source\n",
        "Output Format                 Ephemeris Type                Corner UL Latitude Product\n",
        "Corner UL Longitude Product   Corner UR Latitude Product    Corner UR Longitude Product\n",
        "Corner LL Latitude Product    Corner LL Longitude Product   Corner LR Latitude Product\n",
        "Corner LR Longitude Product   Reflective Samples            Reflective Lines\n",
        "Thermal Lines                 Thermal Samples               Ground Control Points Model\n",
        "Geometric RMSE Model          Geometric RMSE Model X        Geometric RMSE Model Y\n",
        "Geometric RMSE Verify         Map Projection Level 1        Datum\n",
        "Ellipsoid                     UTM Zone                      Vertical Long from Pole\n",
        "True Scale Latitude           False Easting                 False Northing\n",
        "Grid Cell Size Reflective     Grid Cell Size Thermal        Orientation\n",
        "Resampling Option             Scene Center Latitude dec     Scene Center Longitude dec\n",
        "Corner Upper Left Lat dec     Corner Upper Left Long dec    Corner Upper Right Lat dec\n",
        "Corner Upper Right Long dec   Corner Lower Left Lat dec     Corner Lower Left Long dec\n",
        "Corner Lower Right Lat dec    Corner Lower Right Long dec   \n"
       ]
      }
     ],
     "prompt_number": 52
    },
    {
     "cell_type": "markdown",
     "metadata": {},
     "source": [
      "### Extract IDs\n",
      "For right now, let's just extract the Landsat IDs from our search result. We want to create a text file that only contains the Landsat IDs we want to order with each ID separated by row.\n",
      "\n",
      "You could do this step in a variety of ways - Excel, a text editor, R, C, etc... - but let's just use some utilities in Bash:\n"
     ]
    },
    {
     "cell_type": "code",
     "collapsed": false,
     "input": [
      "%%bash\n",
      "\n",
      "# First let's move to our working directory - USE YOUR OWN DIRECTORY\n",
      "cd /projectnb/landsat/users/ceholden/2014_Landsat_Preprocess/\n",
      "\n",
      "# Let's test our command and only print the first few lines using \"head\"\n",
      "cat 1_EarthExplorer/LSR_LANDSAT_ETM_COMBINED_23722.txt | awk -F ',' 'NR > 1 { print $2 }' | head -5"
     ],
     "language": "python",
     "metadata": {},
     "outputs": [
      {
       "output_type": "stream",
       "stream": "stdout",
       "text": [
        "LE70200472014109ASN00\n",
        "LE70200472014093ASN00\n",
        "LE70200472014077ASN00\n",
        "LE70200472014061EDC00\n",
        "LE70200472014045EDC00\n"
       ]
      }
     ],
     "prompt_number": 53
    },
    {
     "cell_type": "code",
     "collapsed": false,
     "input": [
      "%%bash\n",
      "# Now let's save our IDs to our output file\n",
      "\n",
      "# My results are located within \"1_EarthExplorer\" and I will extract the IDs to a file named \"p020r047_submit.txt\"\n",
      "output=2_ESPA/p020r047_submit.txt\n",
      "\n",
      "# First I create the text file using the output from AWK for Landsat 7 ETM+ using \">\" to redirect from stdout to a file\n",
      "cat 1_EarthExplorer/LSR_LANDSAT_ETM_COMBINED_23722.txt | awk -F ',' 'NR > 1 { print $2 }' > $output\n",
      "# Now I append this text file with the IDs from Landsat 4-5 TM using \">>\" to append\n",
      "cat 1_EarthExplorer/LSR_LANDSAT_TM_23721.txt | awk -F ',' 'NR > 1 { print $2 }' >> $output"
     ],
     "language": "python",
     "metadata": {},
     "outputs": [],
     "prompt_number": 54
    },
    {
     "cell_type": "code",
     "collapsed": false,
     "input": [
      "%%bash\n",
      "\n",
      "# We can check to see how many images we have by concatenating our output file and piping it to \"wc\" (word count)\n",
      "n=$(cat 2_ESPA/p020r047_submit.txt | wc -l)\n",
      "\n",
      "echo \"You have $n Landsat images in your text file\""
     ],
     "language": "python",
     "metadata": {},
     "outputs": [
      {
       "output_type": "stream",
       "stream": "stdout",
       "text": [
        "You have 438 Landsat images in your text file\n"
       ]
      }
     ],
     "prompt_number": 57
    },
    {
     "cell_type": "markdown",
     "metadata": {},
     "source": [
      "### Submit text file of Landsat IDs to EROS Science Processing Architecture (ESPA)\n",
      "\n",
      "In a web browser, navigate to:\n",
      "\n",
      "https://espa.cr.usgs.gov\n",
      "\n",
      "and login using your username and password (they're all defaults, so you can also ask me for now, but it is important to register for tracking purposes).\n",
      "\n",
      "Once you log in, you'll be taken to the order page:\n",
      "\n",
      "<img src=\"https://raw.githubusercontent.com/ceholden/landsat_preprocess/master/resources/ESPA_order.png\" />\n",
      "\n",
      "Enter your email address, click \"Browse\", and navigate to your list of Landsat IDs.\n",
      "\n",
      "You have many dataset options for your download, but it is always a good idea to download the \"Source Metadata\" because this product contains the Landsat \"MTL\" metadata file.\n",
      "\n",
      "<img src=\"https://raw.githubusercontent.com/ceholden/landsat_preprocess/master/resources/ESPA_products.png\" />\n",
      "\n",
      "As pictured, I suggest downloading the following in addition to the metadata:\n",
      "\n",
      "- \"Source Products\"\n",
      "    + original TIF imagery in units of DNs\n",
      "- \"Surface Reflectance\"\n",
      "    + \"lndsr*hdf\" LEDAPS output, and the \"CFmask\" cloud mask\n",
      "- \"Band 6 Brightness Temperature\"\n",
      "    + \"lndth*hdf\" LEDAPS thermal brightness temperature\n",
      "    \n",
      "I recommend downloading the \"Source Products\" even though the \"Surface Reflectance\" imagery has a Fmask cloud mask band because the Landsat CDR version of Fmask is ran using default parameters (cloud probability = 22.5, and cloud, shadow, and snow buffering of 3 pixels), but you may require a more conservative mask depending on your scene location or usage scenarios.\n",
      "\n",
      "You also have the potential of having your output datasets resized, reprojected, or subset.\n",
      "\n",
      "When you have submitted your order, you will receive a confirmation email and will be taken to your order status page:\n",
      "\n",
      "<img src=\"https://raw.githubusercontent.com/ceholden/landsat_preprocess/master/resources/ESPA_status.png\" />"
     ]
    }
   ],
   "metadata": {}
  }
 ]
}