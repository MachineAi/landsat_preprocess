{
 "metadata": {
  "name": "",
  "signature": "sha256:42b09243ed4fa718ee631e830c57978d1d414b0270987f91a161a9ef35d747a9"
 },
 "nbformat": 3,
 "nbformat_minor": 0,
 "worksheets": [
  {
   "cells": [
    {
     "cell_type": "markdown",
     "metadata": {},
     "source": [
      "## Step 7. Create spatial subset using extent or polygon ROI\n",
      "\n",
      "If you want to create a subset of your stacks, you can easily accomplish this using one or two of the GDAL command line utilities. Subsets are often very useful when you are rapidly iterating on your analysis and don't need to extend it to your entire study area, or if your study area is smaller than an entire Landsat image. In addition to just subsetting the size of your raster datasets, you can use GDAL to actually mask certain areas from your analysis.\n",
      "\n",
      "###### Simple subsetting using extent\n",
      "If you already have a bounding box defined (i.e., an extent listing upper left and lower right coordinates), you can use:\n",
      "\n",
      "> ***gdal_translate***\n",
      "\n",
      "to very easily subset your data. You can either define your subset in units of pixels (-srcwin) or in units of actual coordinates (-projwin)."
     ]
    },
    {
     "cell_type": "code",
     "collapsed": false,
     "input": [
      "%%bash\n",
      "\n",
      "gdal_translate --help"
     ],
     "language": "python",
     "metadata": {},
     "outputs": [
      {
       "output_type": "stream",
       "stream": "stdout",
       "text": [
        "Usage: gdal_translate [--help-general] [--long-usage]\n",
        "       [-ot {Byte/Int16/UInt16/UInt32/Int32/Float32/Float64/\n",
        "             CInt16/CInt32/CFloat32/CFloat64}] [-strict]\n",
        "       [-of format] [-b band] [-mask band] [-expand {gray|rgb|rgba}]\n",
        "       [-outsize xsize[%] ysize[%]]\n",
        "       [-unscale] [-scale [src_min src_max [dst_min dst_max]]]\n",
        "       [-srcwin xoff yoff xsize ysize] [-projwin ulx uly lrx lry] [-epo] [-eco]\n",
        "       [-a_srs srs_def] [-a_ullr ulx uly lrx lry] [-a_nodata value]\n",
        "       [-gcp pixel line easting northing [elevation]]*\n",
        "       [-mo \"META-TAG=VALUE\"]* [-q] [-sds]\n",
        "       [-co \"NAME=VALUE\"]* [-stats]\n",
        "       src_dataset dst_dataset\n"
       ]
      }
     ],
     "prompt_number": 123
    },
    {
     "cell_type": "markdown",
     "metadata": {},
     "source": [
      "For example, let's say I want to create a subset somewhere in the center of my stacked images:"
     ]
    },
    {
     "cell_type": "code",
     "collapsed": false,
     "input": [
      "%%bash\n",
      "\n",
      "cd /projectnb/landsat/users/ceholden/2014_Landsat_Preprocess/8_Subset\n",
      "\n",
      "# gdalinfo will list the center coordinate of our raster\n",
      "gdalinfo LE70200472014061EDC00/*stack | grep \"Center\""
     ],
     "language": "python",
     "metadata": {},
     "outputs": [
      {
       "output_type": "stream",
       "stream": "stdout",
       "text": [
        "Center      (  200400.000, 2079900.000) ( 89d50'31.44\"W, 18d47'21.19\"N)\n"
       ]
      }
     ],
     "prompt_number": 119
    },
    {
     "cell_type": "markdown",
     "metadata": {},
     "source": [
      "Note that 200400.000, 2079900.000 is the center of a pixel closest to our image's center so, we'll need to shift a half pixel to avoid clipping in the middle of a pixel.\n",
      "\n",
      "Let's make a 500x500 pixel raster centered on our image center:\n"
     ]
    },
    {
     "cell_type": "code",
     "collapsed": false,
     "input": [
      "%%bash\n",
      "\n",
      "cd /projectnb/landsat/users/ceholden/2014_Landsat_Preprocess/8_Subset\n",
      "\n",
      "gdalinfo LE70200472014061EDC00/*stack | grep \"Center\"\n",
      "\n",
      "# Center pixel ULx: 200385 \n",
      "# Center pixel ULy: 2079915\n",
      "\n",
      "# So if we resize by 250 pixels in each direction,\n",
      "\n",
      "ulx=$(expr 200385 - 30 \\* 250)\n",
      "uly=$(expr 2079915 + 30 \\* 250)\n",
      "lrx=$(expr 200385 + 30 \\* 250)\n",
      "lry=$(expr 2079915 - 30 \\* 250)\n",
      "\n",
      "echo \"\"\n",
      "echo \"Our new extent:\"\n",
      "extent=\"$ulx $uly $lrx $lry\"\n",
      "echo $extent\n",
      "\n",
      "# Perform subsetting on all of our stacked images\n",
      "for stack in $(find ./ -name '*stack'); do\n",
      "    id=$(basename $(dirname $stack))\n",
      "\n",
      "    echo \"Subsetting stack image for: $id\"\n",
      "    \n",
      "    output=${stack}_subset.gtif\n",
      "    \n",
      "    gdal_translate -of GTiff -projwin $extent $stack $output\n",
      "    \n",
      "    echo \"\"\n",
      "done"
     ],
     "language": "python",
     "metadata": {},
     "outputs": [
      {
       "output_type": "stream",
       "stream": "stdout",
       "text": [
        "Center      (  200400.000, 2079900.000) ( 89d50'31.44\"W, 18d47'21.19\"N)\n",
        "\n",
        "Our new extent:\n",
        "192885 2087415 207885 2072415\n",
        "Subsetting stack image for: LE70200472014061EDC00\n",
        "Input file size is 8121, 7101\n",
        "Computed -srcwin 3810 3300 500 500 from projected window.\n",
        "0...10...20...30...40...50...60...70...80...90...100 - done.\n",
        "\n",
        "Subsetting stack image for: LE70200472014077ASN00\n",
        "Input file size is 8121, 7101\n",
        "Computed -srcwin 3810 3300 500 500 from projected window.\n",
        "0...10...20...30...40...50...60...70...80...90...100 - done.\n",
        "\n",
        "Subsetting stack image for: LE70200472014093ASN00\n",
        "Input file size is 8121, 7101\n",
        "Computed -srcwin 3810 3300 500 500 from projected window.\n",
        "0...10...20...30...40...50...60...70...80...90...100 - done.\n",
        "\n",
        "Subsetting stack image for: LE70200472014109ASN00\n",
        "Input file size is 8121, 7101\n",
        "Computed -srcwin 3810 3300 500 500 from projected window.\n",
        "0...10...20...30...40...50...60...70...80...90...100 - done.\n",
        "\n"
       ]
      }
     ],
     "prompt_number": 133
    },
    {
     "cell_type": "markdown",
     "metadata": {},
     "source": [
      "As you can see from ***gdal_translate***'s output, it took our \"projwin\" in projected coordinates (meters in our case, but it could just as well be used for geographic data in decimal degrees) and calculated the corresponding offsets and pixel size.\n",
      "\n",
      "If you already knew a range of rows and columns from your raster, you could specify the window you want to extract using:\n",
      "\n",
      "> -srcwin xoff yoff xsize ysize\n",
      "        \n",
      "- xoff      offset from 0 in columns\n",
      "- yoff      offset from 0 in rows\n",
      "- xsize     number of columns to include\n",
      "- ysize     number of rows to include"
     ]
    },
    {
     "cell_type": "markdown",
     "metadata": {},
     "source": [
      "###### More complicated subsetting - polygon & masking outside of polygon\n",
      "\n",
      "Let's suppose instead that you have some area of interest within your Landsat image that you'd like to analyze. In this scenario, the rest of the Landsat image would be a waste of disk space. \n",
      "\n",
      "You could calculate the spatial extent needed to contain the polygon of interest and simply run ***gdal_translate*** with the upper left and lower right X and Y coordinates as shown above.\n",
      "\n",
      "However, you could further limit your analysis by not only subsetting your raster images, but by masking out areas that you're not interested in. In order to do this, we will need to use\n",
      "\n",
      "> ***gdalwarp***\n",
      "\n",
      "***gdalwarp*** is mostly used for going from one projection to another, but it can also be used with a polygon vector file to crop images or to mask images.\n",
      "\n",
      "**NOTE**: ***gdalwarp***'s intended goal is to do reprojections. If we just want to clip our rasters, we will not be doing any reprojections. Unfortunately, even if we do not tell the program to reproject the data, it will recompute the pixel sizes and extent of our raster (see ***gdalwarp*** bug ticket https://trac.osgeo.org/gdal/ticket/3947 and ***gdal_translate*** enhancement ticket https://trac.osgeo.org/gdal/ticket/4875)\n",
      "\n",
      "We can sidestep this potential issue by feeding ***gdalwarp*** the correct extent and pixel size.\n",
      "\n",
      "First thing to do will be to use GDAL's sister library, OGR, to extract one polygon from a shapefile containing \"early action\" sites in Mexico. OGR is a very useful library and has many powerful command line utilities for working with vector data (see http://www.gdal.org/ogr/ogr_sql.html for information about OGR's SQL-like queries)."
     ]
    },
    {
     "cell_type": "code",
     "collapsed": false,
     "input": [
      "%%bash\n",
      "\n",
      "module load gdal/1.10.0\n",
      "\n",
      "cd /projectnb/landsat/users/ceholden/2014_Landsat_Preprocess/8_Subset\n",
      "\n",
      "ogrinfo -al -geom=NO -sql 'SELECT * FROM mredd_aatr WHERE (ESTADO  LIKE \"%Campeche\")' mredd_aatr.shp"
     ],
     "language": "python",
     "metadata": {},
     "outputs": [
      {
       "output_type": "stream",
       "stream": "stdout",
       "text": [
        "INFO: Open of `mredd_aatr.shp'\n",
        "      using driver `ESRI Shapefile' successful.\n",
        "\n",
        "Layer name: mredd_aatr\n",
        "Geometry: Polygon\n",
        "Feature Count: 1\n",
        "Extent: (-107.898611, 15.472142) - (-88.909351, 27.573289)\n",
        "Layer SRS WKT:\n",
        "GEOGCS[\"WGS 84\",\n",
        "    DATUM[\"WGS_1984\",\n",
        "        SPHEROID[\"WGS 84\",6378137,298.257223563,\n",
        "            AUTHORITY[\"EPSG\",\"7030\"]],\n",
        "        TOWGS84[0,0,0,0,0,0,0],\n",
        "        AUTHORITY[\"EPSG\",\"6326\"]],\n",
        "    PRIMEM[\"Greenwich\",0,\n",
        "        AUTHORITY[\"EPSG\",\"8901\"]],\n",
        "    UNIT[\"degree\",0.01745329251994328,\n",
        "        AUTHORITY[\"EPSG\",\"9122\"]],\n",
        "    AUTHORITY[\"EPSG\",\"4326\"]]\n",
        "ID: Real (11.0)\n",
        "SITIO: String (150.0)\n",
        "POLIGONO: String (50.0)\n",
        "ESTADO: String (50.0)\n",
        "OGRFeature(mredd_aatr):0\n",
        "  ID (Real) = 1\n",
        "  SITIO (String) = Sierra Pucc- Los Chenes\n",
        "  POLIGONO (String) = -\n",
        "  ESTADO (String) = Yucat\u00e1n - Campeche\n",
        "\n"
       ]
      }
     ],
     "prompt_number": 146
    },
    {
     "cell_type": "markdown",
     "metadata": {},
     "source": [
      "Now we can use ***ogr2ogr*** to extract this one action site into it's own shapefile. When we do this, we can also reproject our shapefile into the UTM zone we've been using with our Landsat data:"
     ]
    },
    {
     "cell_type": "code",
     "collapsed": false,
     "input": [
      "%%bash\n",
      "\n",
      "module load gdal/1.10.0\n",
      "\n",
      "cd /projectnb/landsat/users/ceholden/2014_Landsat_Preprocess/8_Subset\n",
      "\n",
      "ogr2ogr -f \"ESRI Shapefile\" -t_srs EPSG:32616 \\\n",
      "    -sql \"SELECT * FROM mredd_aatr WHERE (ESTADO  LIKE '%Campeche')\" \\\n",
      "    mredd_yucatan.shp mredd_aatr.shp\n",
      "\n",
      "ogrinfo -al -geom=NO mredd_yucatan.shp"
     ],
     "language": "python",
     "metadata": {},
     "outputs": [
      {
       "output_type": "stream",
       "stream": "stdout",
       "text": [
        "INFO: Open of `mredd_yucatan.shp'\n",
        "      using driver `ESRI Shapefile' successful.\n",
        "\n",
        "Layer name: mredd_yucatan\n",
        "Geometry: Polygon\n",
        "Feature Count: 1\n",
        "Extent: (176449.259014, 2088249.065836) - (300170.064002, 2281342.856148)\n",
        "Layer SRS WKT:\n",
        "PROJCS[\"WGS_1984_UTM_Zone_16N\",\n",
        "    GEOGCS[\"GCS_WGS_1984\",\n",
        "        DATUM[\"WGS_1984\",\n",
        "            SPHEROID[\"WGS_84\",6378137,298.257223563]],\n",
        "        PRIMEM[\"Greenwich\",0],\n",
        "        UNIT[\"Degree\",0.017453292519943295]],\n",
        "    PROJECTION[\"Transverse_Mercator\"],\n",
        "    PARAMETER[\"latitude_of_origin\",0],\n",
        "    PARAMETER[\"central_meridian\",-87],\n",
        "    PARAMETER[\"scale_factor\",0.9996],\n",
        "    PARAMETER[\"false_easting\",500000],\n",
        "    PARAMETER[\"false_northing\",0],\n",
        "    UNIT[\"Meter\",1]]\n",
        "ID: Real (11.0)\n",
        "SITIO: String (150.0)\n",
        "POLIGONO: String (50.0)\n",
        "ESTADO: String (50.0)\n",
        "OGRFeature(mredd_yucatan):0\n",
        "  ID (Real) = 1\n",
        "  SITIO (String) = Sierra Pucc- Los Chenes\n",
        "  POLIGONO (String) = -\n",
        "  ESTADO (String) = Yucat\u00e1n - Campeche\n",
        "\n"
       ]
      }
     ],
     "prompt_number": 153
    },
    {
     "cell_type": "markdown",
     "metadata": {},
     "source": [
      "With our polygon shapefile ready to go, we can calculate an output extent that clips to the polygon but preserves the spacing of the Landsat data. Once again, we'll be using a simple Bash function from Derek Watkin's GDAL/OGR cheat sheet (https://github.com/dwtkns/gdal-cheat-sheet) to easily parse ***gdalinfo*** and ***ogrinfo***'s outputs into extent strings:"
     ]
    },
    {
     "cell_type": "code",
     "collapsed": false,
     "input": [
      "%%bash\n",
      "\n",
      "function gdal_extent() {\n",
      "    if [ -z \"$1\" ]; then \n",
      "        echo \"Missing arguments. Syntax:\"\n",
      "        echo \"  gdal_extent <input_raster>\"\n",
      "        return\n",
      "    fi\n",
      "    EXTENT=$(gdalinfo $1 |\\\n",
      "        grep \"Upper Left\\|Lower Right\" |\\\n",
      "        sed \"s/Upper Left  //g;s/Lower Right //g;s/).*//g\" |\\\n",
      "        tr \"\\n\" \" \" |\\\n",
      "        sed 's/ *$//g' |\\\n",
      "        tr -d \"[(,]\")\n",
      "    echo -n \"$EXTENT\"\n",
      "}\n",
      "\n",
      "function ogr_extent() {\n",
      "    if [ -z \"$1\" ]; then \n",
      "        echo \"Missing arguments. Syntax:\"\n",
      "        echo \"  ogr_extent <input_vector>\"\n",
      "        return\n",
      "    fi\n",
      "    EXTENT=$(ogrinfo -al -so $1 |\\\n",
      "        grep Extent |\\\n",
      "        sed 's/Extent: //g' |\\\n",
      "        sed 's/(//g' |\\\n",
      "        sed 's/)//g' |\\\n",
      "        sed 's/ - /, /g')\n",
      "    EXTENT=`echo $EXTENT | awk -F ',' '{print $1 \" \" $4 \" \" $3 \" \" $2}'`\n",
      "    echo -n \"$EXTENT\"\n",
      "}\n",
      "\n",
      "cd /projectnb/landsat/users/ceholden/2014_Landsat_Preprocess/8_Subset\n",
      "\n",
      "img_ext=$(gdal_extent LE70200472014061EDC00/LE70200472014061EDC00_stack_chris)\n",
      "shp_ext=$(ogr_extent mredd_yucatan.shp)\n",
      "\n",
      "pix=$(gdalinfo LE70200472014061EDC00/LE70200472014061EDC00_stack_chris \\\n",
      "    | grep \"Pixel Size\" | sed \"s/Pixel.*(//g;s/,/ /g;s/)//g\")\n",
      "pix_sz=\"$pix $pix\"\n",
      "\n",
      "echo \"Extent of stacked images and extent of shapefile:\"\n",
      "echo $img_ext\n",
      "echo $shp_ext\n",
      "\n",
      "new_ext=\"\"\n",
      "\n",
      "for i in 1 2 3 4; do\n",
      "    # Get the ith coordinate from sequence\n",
      "    r=$(echo $img_ext | awk -v i=$i '{ print $i }')\n",
      "    v=$(echo $shp_ext | awk -v i=$i '{ print $i }')\n",
      "    pix=$(echo $pix_sz | awk -v i=$i '{ print $i }')\n",
      "    \n",
      "    # Quick snippit of Python\n",
      "    ext=$(python -c \"\\\\\n",
      "        offset=int(($r - $v) / $pix); \\\n",
      "        print $r - offset * $pix\\\n",
      "        \")\n",
      "    new_ext=\"$new_ext $ext\"\n",
      "done\n",
      "\n",
      "echo \"Calculated new extent:\"\n",
      "echo $new_ext\n",
      "\n",
      "# Now, unfortunately, gdalwarp wants us to specify xmin ymin xmax ymax\n",
      "# In this case, this corresponds to the upper left X, lower right Y, lower right X, and upper left Y\n",
      "warp_ext=$(echo $new_ext | awk '{ print $1 \" \" $4 \" \" $3 \" \" $2 }')\n",
      "echo \"gdalwarp extent:\"\n",
      "echo $warp_ext\n",
      "\n",
      "# Perform the clip:\n",
      "\n",
      "for stack in $(find ./ -name '*stack'); do\n",
      "    echo \"Clipping $(basename $(dirname $stack))\"\n",
      "    \n",
      "    output=${stack}_subset\n",
      "    \n",
      "    gdalwarp -of ENVI -co \"INTERLEAVE=BIP\" -te $warp_ext -tr 30 30 \\\n",
      "        -cutline mredd_yucatan.shp -cl mredd_yucatan -crop_to_cutline \\\n",
      "        -dstnodata -9999 -wm 2000 \\\n",
      "        $stack $output\n",
      "\n",
      "done"
     ],
     "language": "python",
     "metadata": {},
     "outputs": [
      {
       "output_type": "stream",
       "stream": "stdout",
       "text": [
        "Extent of stacked images and extent of shapefile:\n",
        "77385.000 2187015.000 323115.000 1973385.000\n",
        "176449.259014 2281342.856148 300170.064002 2088249.065836\n",
        "Calculated new extent:\n",
        "176445.0 2281335.0 300195.0 2088225.0\n",
        "gdalwarp extent:\n",
        "176445.0 2088225.0 300195.0 2281335.0\n",
        "Clipping LE70200472014061EDC00\n",
        "Creating output file that is 4124P x 6436L.\n",
        "Processing input file ./LE70200472014061EDC00/LE70200472014061EDC00_stack.\n",
        "Using internal nodata values (eg. -9999) for image ./LE70200472014061EDC00/LE70200472014061EDC00_stack.\n",
        "0...10...20...30...40...50...60...70...80...90...100 - done.\n",
        "Clipping LE70200472014077ASN00\n",
        "Creating output file that is 4124P x 6436L.\n",
        "Processing input file ./LE70200472014077ASN00/LE70200472014077ASN00_stack.\n",
        "Using internal nodata values (eg. -9999) for image ./LE70200472014077ASN00/LE70200472014077ASN00_stack.\n",
        "0...10...20...30...40...50...60...70...80...90...100 - done.\n",
        "Clipping LE70200472014093ASN00\n",
        "Creating output file that is 4124P x 6436L.\n",
        "Processing input file ./LE70200472014093ASN00/LE70200472014093ASN00_stack.\n",
        "Using internal nodata values (eg. -9999) for image ./LE70200472014093ASN00/LE70200472014093ASN00_stack.\n",
        "0...10...20...30...40...50...60...70...80...90...100 - done.\n",
        "Clipping LE70200472014109ASN00\n",
        "Creating output file that is 4124P x 6436L.\n",
        "Processing input file ./LE70200472014109ASN00/LE70200472014109ASN00_stack.\n",
        "Using internal nodata values (eg. -9999) for image ./LE70200472014109ASN00/LE70200472014109ASN00_stack.\n",
        "0...10...20...30...40...50...60...70...80...90...100 - done.\n"
       ]
      }
     ],
     "prompt_number": 211
    },
    {
     "cell_type": "markdown",
     "metadata": {},
     "source": [
      "In practice, I don't actually calculate the correct extent that aligns with my raster programatically - I just run the numbers myself. It's a lot easier that way.\n",
      "\n",
      "What did we get?\n",
      "\n",
      "###### Before\n",
      "<h6 align=\"center\">Lots of clouds!</h6>\n",
      "<img src=\"https://raw.githubusercontent.com/ceholden/landsat_preprocess/master/resources/clip_yucatan_full.png\" />\n",
      "\n",
      "##### After\n",
      "<h6 align=\"center\">Well, at least it is smaller now</h6>\n",
      "<img src=\"https://raw.githubusercontent.com/ceholden/landsat_preprocess/master/resources/clip_yucatan_clipped.png\" />"
     ]
    }
   ],
   "metadata": {}
  }
 ]
}
