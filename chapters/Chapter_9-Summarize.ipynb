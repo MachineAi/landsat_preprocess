{
 "metadata": {
  "name": "",
  "signature": "sha256:47f46236d727f58f016aa23ccc2f9d434f8bdb0c5c6cb6b89fa4ec8cec02b416"
 },
 "nbformat": 3,
 "nbformat_minor": 0,
 "worksheets": [
  {
   "cells": [
    {
     "cell_type": "markdown",
     "metadata": {},
     "source": [
      "## Step 9. Summarize and document your dataset\n",
      "\n",
      "By now, you've probably seen how useful loops combined with grep, sed, awk, etc. can be.\n",
      "\n",
      "The following are some examples of how you might summarize your dataset by querying the metadata provided with your Landsat images:\n",
      "\n",
      "### ACCA Cloud Cover\n"
     ]
    },
    {
     "cell_type": "code",
     "collapsed": false,
     "input": [
      "%%bash\n",
      "\n",
      "for mtl in $(find ./ -name '*MTL.txt'); do\n",
      "    id=$(basename $(dirname $mtl))\n",
      "    echo $id - $(grep \"CLOUD_COVER\" $mtl | tr -d ' ' | awk -F '=' '{ print $2 }')\n",
      "done"
     ],
     "language": "python",
     "metadata": {},
     "outputs": [
      {
       "output_type": "stream",
       "stream": "stdout",
       "text": [
        "LE70200472014061EDC00 - 21.00\n",
        "LE70200472014077ASN00 - 59.00\n",
        "LE70200472014093ASN00 - 17.00\n",
        "LE70200472014109ASN00 - 40.00\n"
       ]
      }
     ],
     "prompt_number": 228
    },
    {
     "cell_type": "markdown",
     "metadata": {},
     "source": [
      "### Sun Elevation, Sun Azimuth"
     ]
    },
    {
     "cell_type": "code",
     "collapsed": false,
     "input": [
      "%%bash\n",
      "\n",
      "for mtl in $(find ./ -name '*MTL.txt'); do\n",
      "    id=$(basename $(dirname $mtl))\n",
      "    az=$(grep \"SUN_AZIMUTH\" $mtl | tr -d ' ' | awk -F '=' '{ print $2 }')\n",
      "    el=$(grep \"SUN_ELEVATION\" $mtl | tr -d ' ' | awk -F '=' '{ print $2 }')\n",
      "    \n",
      "    echo \"$id, $az, $el\"\n",
      "done"
     ],
     "language": "python",
     "metadata": {},
     "outputs": [
      {
       "output_type": "stream",
       "stream": "stdout",
       "text": [
        "LE70200472014061EDC00, 130.59617147, 52.22814557\n",
        "LE70200472014077ASN00, 123.58852009, 57.11885778\n",
        "LE70200472014093ASN00, 114.75958139, 61.65047059\n",
        "LE70200472014109ASN00, 103.95380278, 65.12459343\n"
       ]
      }
     ],
     "prompt_number": 227
    },
    {
     "cell_type": "markdown",
     "metadata": {},
     "source": [
      "### Number of observations per pixel\n",
      "\n",
      "If you want a map of how many observations there are per pixel, you could loop through all images in your dataset and count the number of times each pixel is not masked by Fmask.\n",
      "\n",
      "In order to do this, I wrote the following program:\n",
      "\n",
      "> stack_nobs.py"
     ]
    },
    {
     "cell_type": "code",
     "collapsed": false,
     "input": [
      "%%bash\n",
      "\n",
      "module load batch_landsat\n",
      "\n",
      "stack_nobs.py --help\n",
      "\n",
      "# Create our number of observations stack\n",
      "stack_nobs.py --dname 'L*' --format GTiff ./ stack_nobs.gtif 2 3 4\n",
      "\n",
      "# Make it smaller!\n",
      "gdal_translate -scale 0 4 0 255 -outsize 25% 25% -of PNG stack_nobs.gtif stack_nobs.png\n",
      "\n",
      "### If I want to view the image with a colormap, I can transform it using \"gdaldem\" operating in\n",
      "###     color-relief mode\n",
      "\n",
      "# First, create class height file for gdaldem\n",
      "echo 0, 215, 25, 28 > colors.txt\n",
      "echo 1, 253, 174, 97 >> colors.txt\n",
      "echo 2, 255, 255, 191 >> colors.txt\n",
      "echo 3, 166, 217, 106 >> colors.txt\n",
      "echo 4, 26, 150, 65 >> colors.txt\n",
      "\n",
      "# Now, run gdaldem\n",
      "gdaldem color-relief stack_nobs.gtif colors.txt stack_nobs_colormap.gtif\n",
      "\n",
      "# Shrink our output RGB image\n",
      "gdal_translate -outsize 25% 25% -of PNG stack_nobs_colormap.gtif stack_nobs_colormap.png"
     ],
     "language": "python",
     "metadata": {},
     "outputs": [
      {
       "output_type": "stream",
       "stream": "stdout",
       "text": [
        "Number of Observations in Stacks\n",
        "\n",
        "Usage:\n",
        "    stack_nobs.py [options] <location> <output> [<maskvalues>...]\n",
        "\n",
        "Options:\n",
        "    -n --name <name>        Pattern of each stack file [default: *stack]\n",
        "    -d --dname <dname>      Pattern for each stack directory [default: LND*]\n",
        "    -m --mask <band>        Mask band [default: 8]\n",
        "    -n --ndv <ndv>          No data value [default: 255]\n",
        "    -f --format <format>    Output file format [default: GTiff]\n",
        "    -v --debug              Show (verbose) debugging messages\n",
        "    -h --help               Show help\n",
        "Finished image 1/4\n",
        "Finished image 2/4\n",
        "Finished image 3/4\n",
        "Finished image 4/4\n",
        "Input file size is 8121, 7101\n",
        "0...10...20...30...40...50...60...70...80...90...100 - done.\n",
        "0...10...20...30...40...50...60...70...80...90...100 - done.\n",
        "Input file size is 8121, 7101\n",
        "0...10...20...30...40...50...60...70...80...90...100 - done.\n"
       ]
      }
     ],
     "prompt_number": 236
    },
    {
     "cell_type": "markdown",
     "metadata": {},
     "source": [
      "#### Original number of observations image in greyscale\n",
      "<img src=\"https://raw.githubusercontent.com/ceholden/landsat_preprocess/master/resources/stack_nobs.png\" />\n",
      "\n",
      "#### GDAL's \"gdaldem\" output mapping the values in the \"stack_nobs.gtif\" image to RGB space\n",
      "<img src=\"https://raw.githubusercontent.com/ceholden/landsat_preprocess/master/resources/stack_nobs_colormap.png\" />"
     ]
    },
    {
     "cell_type": "markdown",
     "metadata": {},
     "source": [
      "### Visualize time series\n",
      "\n",
      "One difficult part of analyzing time series of spatial data is navigating the large amount space and time simultaneously. To help visualize our time series data and to visualize any number of algorithms that try to make sense of this information, I created the QGIS plugin \"Time Series Tools\". You can access it on the cluster by loading its module:\n",
      "\n",
      "> module load CCDCTools/_beta\n",
      "\n",
      "Note that this plugin is very experimental and does not have time series drivers built for any models other than CCDC. You can learn more on the Github page:\n",
      "\n",
      "https://github.com/ceholden/TSTools\n",
      "\n",
      "#### Example:\n",
      "\n",
      "#### I can see on the Bing image (provided by QGIS's \"OpenLayers\" plugin) that this forest isn't healthy. If I click on a location, I can bring up its Landsat time series for any band I have available\n",
      "\n",
      "<img src=\"https://raw.githubusercontent.com/ceholden/landsat_preprocess/master/resources/beetle_nomodel_bing.png\" />\n",
      "\n",
      "#### Now if I want to look at the Landsat image corresponding to any of the observations in the plot, I can simply click the observation in the plot window. Here I bring up an image from the mid 1980's when the forest was healthy\n",
      "\n",
      "<img src=\"https://raw.githubusercontent.com/ceholden/landsat_preprocess/master/resources/beetle_ts_1984.png\" />\n",
      "\n",
      "#### To look at a recent Landsat image of this forest, I can click a more recent observation, or I could add a recent image using the \"Images\" tab's table\n",
      "\n",
      "<img src=\"https://raw.githubusercontent.com/ceholden/landsat_preprocess/master/resources/beetle_ts_2013.png\" />"
     ]
    }
   ],
   "metadata": {}
  }
 ]
}