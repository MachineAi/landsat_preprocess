{
 "metadata": {
  "name": "",
  "signature": "sha256:c3c64b7a0d1bb92aa37291653410eb04f8092b8a832c31c8fd12e7a57b2b1ed3"
 },
 "nbformat": 3,
 "nbformat_minor": 0,
 "worksheets": [
  {
   "cells": [
    {
     "cell_type": "markdown",
     "metadata": {},
     "source": [
      "## Step 6. Run Fmask using custom parameters on images\n",
      "\n",
      "Depending on your scene location or tolerance for noise, you may wish to run Fmask with a more conservative threshold.\n",
      "\n",
      "Since this example is in the Yucatan Penninsula, my guess is that the default Fmask cloud probability of 22.5 will miss a lot of small clouds. Furthermore, we have a relatively large amount of data to work with, so comission is not much of an issue.\n",
      "\n",
      "To run Fmask on our cluster, you can run MATLAB as a single threaded \"batch style\" job using some command line arguments to MATLAB:"
     ]
    },
    {
     "cell_type": "code",
     "collapsed": false,
     "input": [
      "%%bash\n",
      "\n",
      "module load gdal/1.10.0\n",
      "\n",
      "# Define MATLAB single threaded \"batch\" runtime\n",
      "ML=\"/usr/local/bin/matlab -nodisplay -nojvm -singleCompThread -r \"\n",
      "\n",
      "# Define MATLAB command to run - let's use 12.5 as cloud probabilty and dilate clouds and shadow by 5 and 4\n",
      "CMD=\"addpath('/usr3/graduate/zhuzhe/Algorithms/Fmask');clr_pct=autoFmask(5,4,3,12.5);fprintf('CLEAR=%f\\n',clr_pct);exit;\"\n",
      "\n",
      "# Loop over all images running Fmask\n",
      "here=$(pwd)\n",
      "\n",
      "for img in $(find ./ -name 'L*' -type d); do\n",
      "    cd $img\n",
      "    \n",
      "    # Let's not just run Fmask, but also capture clear percentage\n",
      "    clear=$($ML $CMD | grep \"CLEAR=\")\n",
      "    \n",
      "    # Find Fmask\n",
      "    fmask=$(find ./ -name '*Fmask')\n",
      "    # Add clear percent to metadata\n",
      "    gdal_edit.py -mo \"$clear\" $fmask\n",
      "    \n",
      "    cd $here\n",
      "done\n",
      "\n",
      "echo \"Done!\""
     ],
     "language": "python",
     "metadata": {},
     "outputs": [
      {
       "output_type": "stream",
       "stream": "stdout",
       "text": [
        "Done!\n"
       ]
      }
     ],
     "prompt_number": 70
    },
    {
     "cell_type": "code",
     "collapsed": false,
     "input": [
      "%%bash\n",
      "\n",
      "for fmask in $(find ./ -name '*Fmask'); do\n",
      "    echo $(basename $fmask)\n",
      "    gdalinfo $fmask | grep \"CLEAR\"\n",
      "done"
     ],
     "language": "python",
     "metadata": {},
     "outputs": [
      {
       "output_type": "stream",
       "stream": "stdout",
       "text": [
        "LE70200472014061EDC00_MTLFmask\n",
        "  CLEAR=36.869076\n",
        "LE70200472014077ASN00_MTLFmask\n",
        "  CLEAR=20.763808\n",
        "LE70200472014093ASN00_MTLFmask\n",
        "  CLEAR=36.600765\n",
        "LE70200472014109ASN00_MTLFmask\n",
        "  CLEAR=21.032762\n"
       ]
      }
     ],
     "prompt_number": 71
    },
    {
     "cell_type": "markdown",
     "metadata": {},
     "source": [
      "### Batch Fmask\n",
      "\n",
      "Prior to the USGS providing surface reflectance results from LEDAPS, we had to run LEDAPS ourselves here at BU.\n",
      "\n",
      "To help facilitate the preprocessing of Landsat data, I created a script that works on a directory full of Landsat image archives and intelligently submits \"qsub\" jobs to preprocess each archive. Features of the script include:\n",
      "\n",
      "- Stop preprocessing routine and create error log file if image is L1G\n",
      "- Delete TIF images after completed\n",
      "- Extract Landsat archives and organize by Path-Row/LandsatID\n",
      "- Perform LEDAPS and/or Fmask\n",
      "- Customize Fmask parameters\n",
      "- Set number of batch jobs running at one time on the cluster (useful since MATLAB runs out of licenses)\n",
      "\n",
      "You can access this script by loading the module \"batch_landsat\":"
     ]
    },
    {
     "cell_type": "code",
     "collapsed": false,
     "input": [
      "%%bash\n",
      "\n",
      "module load batch_landsat\n",
      "\n",
      "landsatPrepSubmit.sh -h"
     ],
     "language": "python",
     "metadata": {},
     "outputs": [
      {
       "output_type": "stream",
       "stream": "stdout",
       "text": [
        "    \n",
        "    usage: /project/earth/packages/batch_landsat/bin/landsatPrepSubmit.sh [options] image_directory\n",
        "\n",
        "    Author: Chris Holden (ceholden@bu.edu)\n",
        "\n",
        "    Purpose:\n",
        "    This script generates and manages the submissions of Landsat\n",
        "    pre-processing (LEDAPS/Fmask) jobs to the Sun Grid Engine on BU's\n",
        "    Katana cluster. \n",
        "\n",
        "    Note: requires script \"landsatPrepQsub.sh\" to also be in your path\n",
        "\n",
        "    Options:\n",
        "        -h  help\n",
        "        -m  maximum SGE jobs at one time (default 2)\n",
        "        -n  base for job names (default - landsat; cannot begin with a #)\n",
        "        -w  wait between qstat checks (default 60s)\n",
        "        -d  delete TIF files?\n",
        "        -c  cloud dilation parameter for FMASK (default 3)\n",
        "        -s  shadow dilation parameter for FMASK (default 3)\n",
        "        -p  cloud probability parameter for FMASK (default 22.5)\n",
        "        -l  do LEDAPS? 1 - yes, 0 - no (default 1)\n",
        "        -f  do FMask? 1 - yes, 0 - no (default 1)\n",
        "        -x  do directory structure organization? (default 1)\n",
        "            0 - no, just find tar.gz and move to their locations\n",
        "            1 - yes, creates directory structure\n",
        "        -g  check for L1G images and exit if found? (default 0)\n",
        "        -e  send email? (default 1)\n",
        "        -u  do unzipping? useful if data already extracted (default 1)\n",
        "        -8  (BETA) use Qingsong's LC8 compatible version of LEDAPS (default 0)\n",
        "        -2  Use Fmask 2.1 (default 0)\n",
        "\n",
        "    Examples:\n",
        "        Run LEDAPS and Fmask (3.2) using 10 jobs maximum and use custom Fmask \n",
        "        options on the folder \"images\":\n",
        "        > landsatPrepSubmit.sh -m 10 -n myjob -w 60 -d -c 5 -s 4 -p 12.5 images/\n",
        "\n",
        "        Run ONLY Fmask (3.2) on the files processed above, but this time with a \n",
        "        different Fmask cloud probability. Note the \"-x\" option:\n",
        "        > landsatPrepSubmit.sh -m 10 -n myjob -c 5 -s 4 -p 22.5 images/P012-R031\n",
        "\n",
        "        Run ONLY Fmask (3.2) on the files processed above, but with a different\n",
        "        set of Fmask dilation values. Note that because we did not ask for the \n",
        "        TIF files to be deleted in the last run, they still exist and we will \n",
        "        not extract them (\"-u 0\").\n",
        "        > landsatPrepSubmit.sh -m 10 -n myjob -c 3 -s 3 -p 22.5 images/P012-R031\n",
        "\n"
       ]
      }
     ],
     "prompt_number": 88
    },
    {
     "cell_type": "markdown",
     "metadata": {},
     "source": [
      "While we could run LEDAPS with this tool, it is not longer required and our version of LEDAPS is not as recently updated as the one running at the USGS.\n",
      "\n",
      "Instead, let's pretend we just downloaded new data and we'll unzip, organize, and then run Fmask with custom parameters for each image:\n",
      "\n",
      "> \\> landsatPrepSubmit.sh -m 2 -d -c 5 -s 4 -p 12.5 -l 0 \n",
      "\n",
      "This command will:\n",
      "- -m        maximum of 2 qsub jobs\n",
      "- -d        delete TIF files when done\n",
      "- -c 5      dilate clouds by 5 pixels\n",
      "- -s 4      dilate shadows by 4 pixels\n",
      "- -p 12.5   cloud probability = 12.5\n",
      "- -l 0      do not do LEDAPS"
     ]
    },
    {
     "cell_type": "code",
     "collapsed": false,
     "input": [
      "%%bash\n",
      "\n",
      "module load batch_landsat\n",
      "\n",
      "landsatPrepSubmit.sh -m 2 -d -c 5 -s 4 -p 12.5 -l 0 -e 0 -g 1 ./"
     ],
     "language": "python",
     "metadata": {},
     "outputs": [
      {
       "output_type": "stream",
       "stream": "stdout",
       "text": [
        "Scene directory:  /projectnb/landsat/users/ceholden/2014_Landsat_Preprocess/7_BatchPrep\n",
        "Maximum jobs:  2\n",
        "Job basename:  landsat\n",
        "Time between qstat checks:  60\n",
        "Cloud dilation:  5\n",
        "Shadow dilation:  4\n",
        "Cloud probability:  12.5\n",
        "Remove unneccessary files?:  1\n",
        "Do LEDAPS?:  0\n",
        "Do Fmask?:  1\n",
        "Check for L1G?:  1\n",
        "Send email?:  0\n",
        "Do unzip?:  1\n",
        "LC8 LEDAPS:  0\n",
        "Use FMask 2.1sav:  0\n",
        "Found 4 Landsat archives\n",
        "Wrote jobs out...\n",
        "Jobs running: 0\n",
        "<------------------------->\n",
        "Your job 5773156 (\"landsat.LE70200472014077-SC20140507171413\") has been submitted\n",
        "Submitted job #1\n",
        "<------------------------->\n",
        "Jobs submitted:  1\n",
        "Jobs on SGE:  0\n",
        "Jobs running:  0\n",
        "Jobs waiting:  0\n",
        "<------------------------->\n",
        "Your job 5773157 (\"landsat.LE70200472014093-SC20140507171414\") has been submitted\n",
        "Submitted job #2\n",
        "<------------------------->\n",
        "Jobs submitted:  2\n",
        "Jobs on SGE:  1\n",
        "Jobs running:  0\n",
        "Jobs waiting:  1\n",
        "<------------------------->\n",
        "Jobs submitted:  2\n",
        "Jobs on SGE:  2\n",
        "Jobs running:  0\n",
        "Jobs waiting:  2\n",
        "<------------------------->\n",
        "Jobs submitted:  2\n",
        "Jobs on SGE:  2\n",
        "Jobs running:  2\n",
        "Jobs waiting:  0\n",
        "<------------------------->\n",
        "Jobs submitted:  2\n",
        "Jobs on SGE:  2\n",
        "Jobs running:  2\n",
        "Jobs waiting:  0\n",
        "<------------------------->\n",
        "Your job 5773183 (\"landsat.LE70200472014061-SC20140507171414\") has been submitted\n",
        "Submitted job #3\n",
        "<------------------------->\n",
        "Jobs submitted:  3\n",
        "Jobs on SGE:  1\n",
        "Jobs running:  1\n",
        "Jobs waiting:  0\n",
        "<------------------------->\n",
        "Jobs submitted:  3\n",
        "Jobs on SGE:  2\n",
        "Jobs running:  1\n",
        "Jobs waiting:  1\n",
        "<------------------------->\n",
        "Your job 5773191 (\"landsat.LE70200472014109-SC20140507171414\") has been submitted\n",
        "Submitted job #4\n",
        "<------------------------->\n",
        "Jobs submitted:  4\n",
        "Jobs on SGE:  1\n",
        "Jobs running:  1\n",
        "Jobs waiting:  0\n",
        "All jobs submitted to SGE. Exiting.\n"
       ]
      }
     ],
     "prompt_number": 89
    },
    {
     "cell_type": "markdown",
     "metadata": {},
     "source": [
      "Now that the job is done, let's look at our results:"
     ]
    },
    {
     "cell_type": "code",
     "collapsed": false,
     "input": [
      "%%bash\n",
      "\n",
      "# Remember, this script organizes Landsat images by path-row (e.g., P020-R047) AND Landsat ID\n",
      "ls -l P020-R047/\n",
      "\n",
      "n=$(find P020-R047 -name '*Fmask' | wc -l)\n",
      "\n",
      "echo \"\"\n",
      "echo \"We have $n Fmask images\"\n"
     ],
     "language": "python",
     "metadata": {},
     "outputs": [
      {
       "output_type": "stream",
       "stream": "stdout",
       "text": [
        "total 128\n",
        "drwxr-sr-x 3 ceholden landsat 32768 May  8 14:04 LE70200472014061-SC20140507171414\n",
        "drwxr-sr-x 3 ceholden landsat 32768 May  8 14:01 LE70200472014077-SC20140507171413\n",
        "drwxr-sr-x 3 ceholden landsat 32768 May  8 14:01 LE70200472014093-SC20140507171414\n",
        "drwxr-sr-x 3 ceholden landsat 32768 May  8 14:06 LE70200472014109-SC20140507171414\n",
        "\n",
        "We have 4 Fmask images\n"
       ]
      }
     ],
     "prompt_number": 94
    },
    {
     "cell_type": "markdown",
     "metadata": {},
     "source": [
      "Our results are organized by the filename of the archives without the extension (i.e., no tar.gz).\n",
      "\n",
      "To rename our files, we can write a simple Bash loop:\n"
     ]
    },
    {
     "cell_type": "code",
     "collapsed": false,
     "input": [
      "%%bash\n",
      "\n",
      "for d in $(find ./ -name 'L*-S*' -type d); do \n",
      "    id=$(find $d -name '*MTL.txt' -exec basename {} \\;)\n",
      "    id=$(echo $id | awk -F '_' '{ print $1 }')\n",
      "    \n",
      "    mv $d $id\n",
      "done\n",
      "\n",
      "echo \"Done!\"\n",
      "\n",
      "ls -l ./"
     ],
     "language": "python",
     "metadata": {},
     "outputs": [
      {
       "output_type": "stream",
       "stream": "stdout",
       "text": [
        "Done!\n",
        "total 128\n",
        "drwxr-sr-x 3 ceholden landsat 32768 May  8 14:04 LE70200472014061EDC00\n",
        "drwxr-sr-x 3 ceholden landsat 32768 May  8 14:01 LE70200472014077ASN00\n",
        "drwxr-sr-x 3 ceholden landsat 32768 May  8 14:01 LE70200472014093ASN00\n",
        "drwxr-sr-x 3 ceholden landsat 32768 May  8 14:06 LE70200472014109ASN00\n"
       ]
      }
     ],
     "prompt_number": 98
    }
   ],
   "metadata": {}
  }
 ]
}