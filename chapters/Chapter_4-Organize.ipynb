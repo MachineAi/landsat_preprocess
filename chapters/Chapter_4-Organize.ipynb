{
 "metadata": {
  "name": "",
  "signature": "sha256:15daee04d07ddea27789ab521bd3d25d9613c273e396ac1b7be2fa275ff039ef"
 },
 "nbformat": 3,
 "nbformat_minor": 0,
 "worksheets": [
  {
   "cells": [
    {
     "cell_type": "markdown",
     "metadata": {},
     "source": [
      "## Step 4. Organize and extract imagery from archives\n",
      "\n",
      "If you have any prior experience with Landsat imagery, you'll notice that the archives we downloaded have an unusual filename:\n",
      "\n",
      "                    LE70200472011261-SC20140507171414.tar.gz\n",
      "                    \n",
      "The first half of this string is the Landsat ID, minus the receiving station information. The second half of this string details the timing of when the Landsat image was processed through ESPA.\n",
      "\n",
      "Since we're not very interested in the processing detail, we will extract each of these archives to a folder based on the reference ID of the Landsat image."
     ]
    },
    {
     "cell_type": "code",
     "collapsed": false,
     "input": [
      "%%bash\n",
      "\n",
      "cd /projectnb/landsat/users/ceholden/2014_Landsat_Preprocess/4_Organize\n",
      "\n",
      "# We want to find things ONLY in our current directory, not in any subfolders\n",
      "#     So, we use -maxdepth 1 option\n",
      "#     You could also just use \"ls *tar.gz\", \n",
      "#     but find is good to know because it gives you a lot of control\n",
      "n=$(find ./ -maxdepth 1 -name '*tar.gz' | wc -l)\n",
      "i=1\n",
      "\n",
      "for archive in $(find ./ -maxdepth 1 -name '*tar.gz'); do\n",
      "    echo \"<----- $i / $n: $(basename $img)\"\n",
      "    \n",
      "    # Create temporary folder for storage\n",
      "    mkdir temp\n",
      "    \n",
      "    # Extract archive to temporary folder\n",
      "    tar -xzvf $archive -C temp/\n",
      "    \n",
      "    # Find ID based on MTL file's filename\n",
      "    mtl=$(find temp/ -name 'L*MTL.txt')\n",
      "    \n",
      "    # Test to make sure we found it\n",
      "    if [ ! -f $mtl ]; then\n",
      "        echo \"Could not find MTL file for $archive\"\n",
      "        break\n",
      "    fi\n",
      "    \n",
      "    # Use AWK to remove _MTL.txt\n",
      "    id=$(basename $mtl | awk -F '_' '{ print $1 }')\n",
      "    \n",
      "    # Move archive into temporary folder\n",
      "    mv $archive temp/\n",
      "    \n",
      "    # Rename archive\n",
      "    mv temp $id\n",
      "    \n",
      "    # Iterate count\n",
      "    let i+=1\n",
      "done\n",
      "\n",
      "echo \"Done!\""
     ],
     "language": "python",
     "metadata": {},
     "outputs": [
      {
       "output_type": "stream",
       "stream": "stdout",
       "text": [
        "Done!\n"
       ]
      }
     ],
     "prompt_number": 21
    },
    {
     "cell_type": "markdown",
     "metadata": {},
     "source": [
      "###### Filter L1G images\n",
      "If you recall when we filtered our dataset from the Landsat archive, we had selected the \"Processing Required\" option. This means that some of the images we downloaded that had this status will be L1T, but some of them will be L1G (not orthorectified).\n",
      "\n",
      "In order to remove the L1G images, we can run through our image stacks and do a quick \"grep\" on each MTL file:"
     ]
    },
    {
     "cell_type": "code",
     "collapsed": false,
     "input": [
      "%%bash\n",
      "\n",
      "cd /projectnb/landsat/users/ceholden/2014_Landsat_Preprocess/4_Organize\n",
      "\n",
      "if [ ! -d L1G ]; then\n",
      "    mkdir L1G/\n",
      "fi\n",
      "\n",
      "for mtl in $(find ./ -name 'L*MTL.txt'); do\n",
      "    id=$(basename $(dirname $mtl))\n",
      "    \n",
      "    l1t=$(grep \"L1T\" $mtl)\n",
      "    \n",
      "    if [ \"$l1t\" == \"\" ]; then\n",
      "        echo \"$id is not L1T\"\n",
      "        mv $(dirname $mtl) L1G\n",
      "    else\n",
      "        echo \"$id is L1T\"\n",
      "    fi\n",
      "    \n",
      "done"
     ],
     "language": "python",
     "metadata": {},
     "outputs": [],
     "prompt_number": 2
    }
   ],
   "metadata": {}
  }
 ]
}